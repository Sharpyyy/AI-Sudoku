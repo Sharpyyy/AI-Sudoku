{
  "nbformat": 4,
  "nbformat_minor": 0,
  "metadata": {
    "colab": {
      "name": "PySudokuSolver.ipynb",
      "provenance": [],
      "collapsed_sections": []
    },
    "kernelspec": {
      "name": "python3",
      "display_name": "Python 3"
    }
  },
  "cells": [
    {
      "cell_type": "code",
      "metadata": {
        "id": "JIC8rzc1buOF"
      },
      "source": [
        "import cv2\n",
        "import numpy as np\n",
        "import matplotlib.pyplot as plt\n",
        "import operator"
      ],
      "execution_count": 221,
      "outputs": []
    },
    {
      "cell_type": "code",
      "metadata": {
        "id": "04NFqUCWX7zD"
      },
      "source": [
        "def pre_process_image(img, skip_dilate=False):\n",
        "    \"\"\"Uses a blurring function, adaptive thresholding and dilation to expose the main features of an image.\"\"\"\n",
        "\n",
        "    # Gaussian blur with a kernal size (height, width) of 9.\n",
        "    # Note that kernal sizes must be positive and odd and the kernel must be square.\n",
        "    # proc = cv2.GaussianBlur(img.copy(), (9, 9), 0)\n",
        "\n",
        "    # Adaptive threshold using 11 nearest neighbour pixels\n",
        "    # proc = cv2.adaptiveThreshold(proc, 255, cv2.ADAPTIVE_THRESH_GAUSSIAN_C, cv2.THRESH_BINARY, 11, 2)\n",
        "    _, proc = cv2.threshold(img.copy(),0,255,cv2.THRESH_BINARY+cv2.THRESH_OTSU)\n",
        "\n",
        "    # Invert colours, so gridlines have non-zero pixel values.\n",
        "    # Necessary to dilate the image, otherwise will look like erosion instead.\n",
        "    proc = cv2.bitwise_not(proc)\n",
        "\n",
        "    # if not skip_dilate:\n",
        "    #     # Dilate the image to increase the size of the grid lines.\n",
        "    #     kernel = np.array([[0., 1., 0.], [1., 1., 1.], [0., 1., 0.]], np.uint8)\n",
        "    #     proc = cv2.dilate(proc, kernel)\n",
        "\n",
        "    plt.imshow(proc, cmap='gray')\n",
        "    plt.title('pre_process_image')\n",
        "    plt.show()\n",
        "    return proc"
      ],
      "execution_count": 333,
      "outputs": []
    },
    {
      "cell_type": "code",
      "metadata": {
        "id": "xxALjCnMcrtt"
      },
      "source": [
        "def find_corners_of_largest_polygon(img):\n",
        "    \"\"\"Finds the 4 extreme corners of the largest contour in the image.\"\"\"\n",
        "    contours, h = cv2.findContours(img.copy(), cv2.RETR_EXTERNAL, cv2.CHAIN_APPROX_SIMPLE)  # Find contours\n",
        "    contours = sorted(contours, key=cv2.contourArea, reverse=True)  # Sort by area, descending\n",
        "    polygon = contours[0]  # Largest image\n",
        "\n",
        "    # Use of `operator.itemgetter` with `max` and `min` allows us to get the index of the point\n",
        "    # Each point is an array of 1 coordinate, hence the [0] getter, then [0] or [1] used to get x and y respectively.\n",
        "\n",
        "    # Bottom-right point has the largest (x + y) value\n",
        "    # Top-left has point smallest (x + y) value\n",
        "    # Bottom-left point has smallest (x - y) value\n",
        "    # Top-right point has largest (x - y) value\n",
        "    bottom_right, _ = max(enumerate([pt[0][0] + pt[0][1] for pt in polygon]), key=operator.itemgetter(1))\n",
        "    top_left, _ = min(enumerate([pt[0][0] + pt[0][1] for pt in polygon]), key=operator.itemgetter(1))\n",
        "    bottom_left, _ = min(enumerate([pt[0][0] - pt[0][1] for pt in polygon]), key=operator.itemgetter(1))\n",
        "    top_right, _ = max(enumerate([pt[0][0] - pt[0][1] for pt in polygon]), key=operator.itemgetter(1))\n",
        "\n",
        "    # Return an array of all 4 points using the indices\n",
        "    # Each point is in its own array of one coordinate\n",
        "    return [polygon[top_left][0], polygon[top_right][0], polygon[bottom_right][0], polygon[bottom_left][0]]"
      ],
      "execution_count": 334,
      "outputs": []
    },
    {
      "cell_type": "code",
      "metadata": {
        "id": "wtM6GH6YdpRe"
      },
      "source": [
        "def distance_between(p1, p2):\n",
        "  x1, y1 = p1\n",
        "  x2, y2 = p2\n",
        "  dist = math.sqrt((x2 - x1)**2 + (y2 - y1)**2)\n",
        "  return dist\n",
        "\n",
        "def crop(img, crop_rect):\n",
        "  top_left, bottom_right = crop_rect[0], crop_rect[2]\n",
        "  \n",
        "  x1, y1 = top_left\n",
        "  x2, y2 = bottom_right\n",
        "\n",
        "  crop = img[y1:y2, x1:x2]\n",
        "  \n",
        "  plt.imshow(crop, cmap='gray')\n",
        "  plt.title('warp_image')\n",
        "  plt.show()\n",
        "  return crop\n",
        "\n",
        "def crop_and_warp(img, crop_rect):\n",
        "    \"\"\"Crops and warps a rectangular section from an image into a square of similar size.\"\"\"\n",
        "\n",
        "    # Rectangle described by top left, top right, bottom right and bottom left points\n",
        "    top_left, top_right, bottom_right, bottom_left = crop_rect[0], crop_rect[1], crop_rect[2], crop_rect[3]\n",
        "\n",
        "    # Explicitly set the data type to float32 or `getPerspectiveTransform` will throw an error\n",
        "    src = np.array([top_left, top_right, bottom_right, bottom_left], dtype='float32')\n",
        "\n",
        "    # Get the longest side in the rectangle\n",
        "    side = max([\n",
        "        distance_between(bottom_right, top_right),\n",
        "        distance_between(top_left, bottom_left),\n",
        "        distance_between(bottom_right, bottom_left),\n",
        "        distance_between(top_left, top_right)\n",
        "        ])\n",
        "\n",
        "    # Describe a square with side of the calculated length, this is the new perspective we want to warp to\n",
        "    dst = np.array([[0, 0], [side - 1, 0], [side - 1, side - 1], [0, side - 1]], dtype='float32')\n",
        "\n",
        "    # Gets the transformation matrix for skewing the image to fit a square by comparing the 4 before and after points\n",
        "    m = cv2.getPerspectiveTransform(src, dst)\n",
        "\n",
        "    # Performs the transformation on the original image\n",
        "    warp = cv2.warpPerspective(img, m, (int(side), int(side)))\n",
        "    plt.imshow(warp, cmap='gray')\n",
        "    plt.title('warp_image')\n",
        "    plt.show()\n",
        "    return warp"
      ],
      "execution_count": 335,
      "outputs": []
    },
    {
      "cell_type": "code",
      "metadata": {
        "id": "sNfhl6LshSFy"
      },
      "source": [
        "def nearest_num_div_by_9(x, d = 9):\n",
        "  return (x + d) - (x % d)"
      ],
      "execution_count": 336,
      "outputs": []
    },
    {
      "cell_type": "code",
      "metadata": {
        "colab": {
          "base_uri": "https://localhost:8080/",
          "height": 545
        },
        "id": "eGutJZAab1wo",
        "outputId": "3099f215-844c-4371-84e1-cfbb3927ebbc"
      },
      "source": [
        "img = cv2.imread('hard2.png', cv2.IMREAD_GRAYSCALE)\n",
        "img = pre_process_image(img)\n",
        "crop_rect = find_corners_of_largest_polygon(img)\n",
        "cropped = crop(img, crop_rect)"
      ],
      "execution_count": 416,
      "outputs": [
        {
          "output_type": "display_data",
          "data": {
            "image/png": "[encoded data removed]",
            "text/plain": [
              "<Figure size 432x288 with 1 Axes>"
            ]
          },
          "metadata": {
            "tags": [],
            "needs_background": "light"
          }
        },
        {
          "output_type": "display_data",
          "data": {
            "image/png": "[encoded data removed]",
            "text/plain": [
              "<Figure size 432x288 with 1 Axes>"
            ]
          },
          "metadata": {
            "tags": [],
            "needs_background": "light"
          }
        }
      ]
    },
    {
      "cell_type": "code",
      "metadata": {
        "colab": {
          "base_uri": "https://localhost:8080/",
          "height": 281
        },
        "id": "qHOpOATpb1uT",
        "outputId": "39d15f76-24d0-43d9-d010-2938395f5b18"
      },
      "source": [
        "new_shape = nearest_num_div_by_9(cropped.shape[0])\n",
        "new = cv2.resize(cropped, (new_shape,new_shape), interpolation = cv2.INTER_CUBIC)\n",
        "plt.imshow(new, cmap='gray')\n",
        "plt.title('new_image')\n",
        "plt.show()"
      ],
      "execution_count": 417,
      "outputs": [
        {
          "output_type": "display_data",
          "data": {
            "image/png": "[encoded data removed]",
            "text/plain": [
              "<Figure size 432x288 with 1 Axes>"
            ]
          },
          "metadata": {
            "tags": [],
            "needs_background": "light"
          }
        }
      ]
    },
    {
      "cell_type": "code",
      "metadata": {
        "colab": {
          "base_uri": "https://localhost:8080/",
          "height": 269
        },
        "id": "We39a0aDuikH",
        "outputId": "41d1214a-ac69-4439-d63a-6bc75a263723"
      },
      "source": [
        "rows = []\n",
        "for row in range(new.shape[0]):\n",
        "  if new[row,:].sum() > (new_shape*255 * 0.5):\n",
        "    rows.append(row)\n",
        "\n",
        "cols = []\n",
        "for col in range(new.shape[1]):\n",
        "  if new[:,col].sum() > (new_shape*255 * 0.5):\n",
        "    cols.append(col)\n",
        "\n",
        "new_ = np.delete(new, rows, 1)\n",
        "new_ = np.delete(new_, cols, 0)\n",
        "\n",
        "plt.imshow(new_, cmap='gray')\n",
        "plt.show()"
      ],
      "execution_count": 418,
      "outputs": [
        {
          "output_type": "display_data",
          "data": {
            "image/png": "[encoded data removed]",
            "text/plain": [
              "<Figure size 432x288 with 1 Axes>"
            ]
          },
          "metadata": {
            "tags": [],
            "needs_background": "light"
          }
        }
      ]
    },
    {
      "cell_type": "code",
      "metadata": {
        "id": "1yIRxUOsb1sE"
      },
      "source": [
        "divisor = new_.shape[0]//9\n",
        "\n",
        "puzzle = []\n",
        "for i in range(9):\n",
        "    row = []\n",
        "    for j in range(9):\n",
        "        #slice image, reshape it to 28x28 (mnist reader size)\n",
        "        block = cv2.resize(new_[i*divisor:(i+1)*divisor,\n",
        "                                    j*divisor:(j+1)*divisor][3:-3, 3:-3], \n",
        "                              dsize=(28,28), \n",
        "                              interpolation=cv2.INTER_CUBIC)\n",
        "        row.append(block)\n",
        "    puzzle.append(row)"
      ],
      "execution_count": 419,
      "outputs": []
    },
    {
      "cell_type": "code",
      "metadata": {
        "id": "VE0GoBdnpvHv"
      },
      "source": [
        "# from resnet164 import ResNet164\n",
        "# model = ResNet164()\n",
        "# model.compile()\n",
        "\n",
        "# model.load_weights('/content/drive/MyDrive/MNIST_ResNet164.h5')"
      ],
      "execution_count": 420,
      "outputs": []
    },
    {
      "cell_type": "code",
      "metadata": {
        "id": "C_GbTflzyFFg"
      },
      "source": [
        "# import tensorflow as tf\n",
        "\n",
        "# model = tf.keras.models.Sequential()\n",
        "# model.add(tf.keras.layers.Conv2D(254, kernel_size=(3,3), input_shape=(28,28, 1)))\n",
        "# model.add(tf.keras.layers.MaxPool2D((2,2)))\n",
        "# model.add(tf.keras.layers.Conv2D(128, kernel_size=(3,3)))\n",
        "# model.add(tf.keras.layers.MaxPool2D((2,2)))\n",
        "# model.add(tf.keras.layers.Flatten())\n",
        "# model.add(tf.keras.layers.Dense(140, activation='relu'))\n",
        "# model.add(tf.keras.layers.Dropout(0.2))\n",
        "# model.add(tf.keras.layers.Dense(80, activation='relu'))\n",
        "# model.add(tf.keras.layers.Dropout(0.2))\n",
        "# model.add(tf.keras.layers.Dense(units=10, activation='sigmoid'))\n",
        "\n",
        "# model.load_weights('/content/drive/MyDrive/image_to_number_model.hdf5')\n",
        "\n",
        "# count = 0 \n",
        "# for row in puzzle:\n",
        "#     for spot in row:\n",
        "#         if np.mean(spot) > 10:\n",
        "#             count += 1\n",
        "#             plt.imshow(spot)\n",
        "#             plt.show()\n",
        "#             print(model.predict_classes(spot.reshape(1,28,28,1).astype('float32')/255))\n",
        "            \n",
        "# print(count)"
      ],
      "execution_count": 421,
      "outputs": []
    },
    {
      "cell_type": "code",
      "metadata": {
        "id": "0NFob9hzyFMV"
      },
      "source": [
        ""
      ],
      "execution_count": 421,
      "outputs": []
    },
    {
      "cell_type": "code",
      "metadata": {
        "id": "leLXHhsAyFKA"
      },
      "source": [
        "# count = 0 \n",
        "# for row in puzzle:\n",
        "#     for spot in row:\n",
        "#         if np.mean(spot) > 10:\n",
        "#             count += 1\n",
        "#             plt.imshow(spot)\n",
        "#             plt.show()\n",
        "\n",
        "#             spot = normalize_images(spot.reshape(1,28,28,1))\n",
        "#             print((model.predict(spot, verbose=0)[0]).argmax())\n",
        "            \n",
        "# print(count)"
      ],
      "execution_count": 422,
      "outputs": []
    },
    {
      "cell_type": "code",
      "metadata": {
        "id": "1_Tg_IdayFHy"
      },
      "source": [
        ""
      ],
      "execution_count": 422,
      "outputs": []
    },
    {
      "cell_type": "code",
      "metadata": {
        "id": "Exhdo-dUyFDS"
      },
      "source": [
        ""
      ],
      "execution_count": 422,
      "outputs": []
    },
    {
      "cell_type": "code",
      "metadata": {
        "colab": {
          "base_uri": "https://localhost:8080/"
        },
        "id": "XQPC84vP1iCn",
        "outputId": "5050d0eb-8168-4bc6-d7d4-0720d3e6ea85"
      },
      "source": [
        "template = [\n",
        "    [0 for _ in range(9)] for _ in range(9)\n",
        "]\n",
        "\n",
        "for i, row in enumerate(puzzle):\n",
        "    for j, spot in enumerate(row):\n",
        "        if np.mean(spot) > 6:\n",
        "            spot = normalize_images(spot.reshape(1,28,28,1))\n",
        "            template[i][j] = (model.predict(spot, verbose=0)[0]).argmax()\n",
        "\n",
        "template"
      ],
      "execution_count": 446,
      "outputs": [
        {
          "output_type": "execute_result",
          "data": {
            "text/plain": [
              "[[0, 6, 0, 0, 0, 5, 0, 0, 0],\n",
              " [0, 7, 0, 0, 0, 0, 0, 0, 1],\n",
              " [0, 0, 0, 0, 6, 3, 4, 0, 0],\n",
              " [0, 0, 3, 0, 8, 0, 0, 0, 0],\n",
              " [2, 1, 0, 0, 9, 0, 0, 0, 5],\n",
              " [4, 0, 0, 0, 0, 7, 8, 0, 0],\n",
              " [0, 0, 1, 6, 0, 0, 0, 8, 4],\n",
              " [0, 0, 0, 0, 0, 0, 0, 5, 0],\n",
              " [8, 0, 0, 0, 4, 0, 6, 1, 0]]"
            ]
          },
          "metadata": {
            "tags": []
          },
          "execution_count": 446
        }
      ]
    },
    {
      "cell_type": "code",
      "metadata": {
        "id": "Z6a1X8Eq9dr8"
      },
      "source": [
        "import numpy as np\n",
        "import time\n",
        "\n",
        "subtract_set = {1,2,3,4,5,6,7,8,9}\n",
        "\n",
        "def check_horizontal(i,j):\n",
        "    return subtract_set - set(container[i])\n",
        "\n",
        "def check_vertical(i,j):\n",
        "    ret_set = []\n",
        "    for x in range(9):\n",
        "        ret_set.append(container[x][j])\n",
        "    return subtract_set - set(ret_set)\n",
        "\n",
        "def check_square(i,j):\n",
        "    first = [0,1,2]\n",
        "    second = [3,4,5]\n",
        "    third = [6,7,8]\n",
        "    find_square = [first,second,third]\n",
        "    for l in find_square:\n",
        "        if i in l:\n",
        "            row = l\n",
        "        if j in l:\n",
        "            col = l\n",
        "    ret_set = []\n",
        "    for x in row:\n",
        "        for y in col:\n",
        "            ret_set.append(container[x][y])\n",
        "    return subtract_set - set(ret_set)\n",
        "\n",
        "def get_poss_vals(i,j):\n",
        "    poss_vals = list(check_square(i,j).intersection(check_horizontal(i,j)).intersection(check_vertical(i,j)))\n",
        "    return poss_vals\n",
        "\n",
        "def explicit_solver(container):\n",
        "    stump_count = 1\n",
        "    for i in range(9):\n",
        "        for j in range(9):\n",
        "            if container[i][j] == 0:\n",
        "                poss_vals = get_poss_vals(i,j)\n",
        "                if len(poss_vals) == 1:\n",
        "                    container[i][j] = list(poss_vals)[0]\n",
        "                    # print_container(container)\n",
        "                    stump_count = 0\n",
        "    return container, stump_count\n",
        "\n",
        "def implicit_solver(i,j,container):\n",
        "    if container[i][j] == 0:\n",
        "        poss_vals = get_poss_vals(i,j)\n",
        "        \n",
        "        #check row\n",
        "        row_poss = []\n",
        "        for y in range(9):\n",
        "            if y == j:\n",
        "                continue\n",
        "            if container[i][y] == 0:\n",
        "                for val in get_poss_vals(i,y):\n",
        "                    row_poss.append(val)\n",
        "        if len(set(poss_vals)-set(row_poss)) == 1:\n",
        "            container[i][j] = list(set(poss_vals)-set(row_poss))[0]\n",
        "            # print_container(container)\n",
        "        \n",
        "        #check column\n",
        "        col_poss = []\n",
        "        for x in range(9):\n",
        "            if x == i:\n",
        "                continue\n",
        "            if container[x][j] == 0:\n",
        "                for val in get_poss_vals(x,j):\n",
        "                    col_poss.append(val)\n",
        "        if len(set(poss_vals)-set(col_poss)) == 1:\n",
        "            container[i][j] = list(set(poss_vals)-set(col_poss))[0]\n",
        "            # print_container(container)\n",
        "                \n",
        "        #check square\n",
        "        first = [0,1,2]\n",
        "        second = [3,4,5]\n",
        "        third = [6,7,8]\n",
        "        find_square = [first,second,third]\n",
        "        for l in find_square:\n",
        "            if i in l:\n",
        "                row = l\n",
        "            if j in l:\n",
        "                col = l\n",
        "        square_poss = []\n",
        "        for x in row:\n",
        "            for y in col:\n",
        "                if container[x][y] == 0:\n",
        "                    for val in get_poss_vals(x,y):\n",
        "                        square_poss.append(val)\n",
        "        if len(set(poss_vals)-set(square_poss)) == 1:\n",
        "            container[i][j] = list(set(poss_vals)-set(square_poss))[0]\n",
        "            # print_container(container)\n",
        "    return container\n",
        "\n",
        "def print_container(container):\n",
        "    print(\"\\n\")\n",
        "    for i in range(len(container)):\n",
        "        line = \"\"\n",
        "        if i == 3 or i == 6:\n",
        "            print(\"---------------------\")\n",
        "        for j in range(len(container[i])):\n",
        "            if j == 3 or j == 6:\n",
        "                line += \"| \"\n",
        "            line += str(container[i][j])+\" \"\n",
        "        print(line)"
      ],
      "execution_count": 447,
      "outputs": []
    },
    {
      "cell_type": "code",
      "metadata": {
        "colab": {
          "base_uri": "https://localhost:8080/"
        },
        "id": "K4wtctl79dqP",
        "outputId": "7dcc31cf-4dce-4fa5-ec16-a43bdd8a60a9"
      },
      "source": [
        "# hardest_sudoku = [\n",
        "#     [8,0,0,0,0,0,0,0,0],\n",
        "#     [0,0,3,6,0,0,0,0,0],\n",
        "#     [0,7,0,0,9,0,2,0,0],\n",
        "#     [0,5,0,0,0,7,0,0,0],\n",
        "#     [0,0,0,0,4,5,7,0,0],\n",
        "#     [0,0,0,1,0,0,0,3,0],\n",
        "#     [0,0,1,0,0,0,0,6,8],\n",
        "#     [0,0,8,5,0,0,0,1,0],\n",
        "#     [0,9,0,0,0,0,4,0,0]]\n",
        "    \n",
        "container = template\n",
        "\n",
        "# using explicit solver\n",
        "start = time.time()\n",
        "zero_count = 0\n",
        "for l in container:\n",
        "    for v in l:\n",
        "        if v == 0:\n",
        "            zero_count += 1\n",
        "            \n",
        "print(f'There are {zero_count} moves I have to make!')\n",
        "\n",
        "solving = True\n",
        "\n",
        "while solving:\n",
        "    #Solver Portion\n",
        "    container, stump_count = explicit_solver(container)\n",
        "    \n",
        "    #Loop-Breaking Portion\n",
        "    zero_count = 0\n",
        "    for l in container:\n",
        "        for v in l:\n",
        "            if v == 0:\n",
        "                zero_count += 1\n",
        "    if zero_count==0:\n",
        "        print_container(container)\n",
        "        solving=False\n",
        "    if stump_count > 0:\n",
        "        for i in range(9):\n",
        "            for j in range(9):\n",
        "                container = implicit_solver(i,j,container)\n",
        "print()\n",
        "print('That took', time.time()-start, 'seconds!')"
      ],
      "execution_count": 448,
      "outputs": [
        {
          "output_type": "stream",
          "text": [
            "There are 56 moves I have to make!\n",
            "\n",
            "\n",
            "9 6 2 | 4 1 5 | 3 7 8 \n",
            "3 7 4 | 9 2 8 | 5 6 1 \n",
            "1 8 5 | 7 6 3 | 4 2 9 \n",
            "---------------------\n",
            "7 5 3 | 2 8 4 | 1 9 6 \n",
            "2 1 8 | 3 9 6 | 7 4 5 \n",
            "4 9 6 | 1 5 7 | 8 3 2 \n",
            "---------------------\n",
            "5 3 1 | 6 7 2 | 9 8 4 \n",
            "6 4 9 | 8 3 1 | 2 5 7 \n",
            "8 2 7 | 5 4 9 | 6 1 3 \n",
            "\n",
            "That took 0.02454519271850586 seconds!\n"
          ],
          "name": "stdout"
        }
      ]
    },
    {
      "cell_type": "code",
      "metadata": {
        "id": "S1nbVfda1h-j"
      },
      "source": [
        ""
      ],
      "execution_count": 394,
      "outputs": []
    },
    {
      "cell_type": "code",
      "metadata": {
        "id": "FCg5OUdL9eeC"
      },
      "source": [
        ""
      ],
      "execution_count": null,
      "outputs": []
    },
    {
      "cell_type": "code",
      "metadata": {
        "id": "PBHdWKX29ebt"
      },
      "source": [
        ""
      ],
      "execution_count": null,
      "outputs": []
    },
    {
      "cell_type": "code",
      "metadata": {
        "id": "RiYeZr5jYSS6"
      },
      "source": [
        "hardest_sudoku = [\n",
        "    [8,0,0,0,0,0,0,0,0],\n",
        "    [0,0,3,6,0,0,0,0,0],\n",
        "    [0,7,0,0,9,0,2,0,0],\n",
        "    [0,5,0,0,0,7,0,0,0],\n",
        "    [0,0,0,0,4,5,7,0,0],\n",
        "    [0,0,0,1,0,0,0,3,0],\n",
        "    [0,0,1,0,0,0,0,6,8],\n",
        "    [0,0,8,5,0,0,0,1,0],\n",
        "    [0,9,0,0,0,0,4,0,0]]\n",
        "\n",
        "mySudoku = Sudoku( hardest_sudoku )\n",
        "start = time.time()\n",
        "mySudoku.solve( \"A\", \"0\", time.time(), False )\n",
        "print( \"solved in {} seconds\".format( time.time() - start ) )"
      ],
      "execution_count": null,
      "outputs": []
    }
  ]
}